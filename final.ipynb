{
  "nbformat": 4,
  "nbformat_minor": 0,
  "metadata": {
    "colab": {
      "provenance": [],
      "include_colab_link": true
    },
    "kernelspec": {
      "name": "python3",
      "display_name": "Python 3"
    },
    "language_info": {
      "name": "python"
    }
  },
  "cells": [
    {
      "cell_type": "markdown",
      "metadata": {
        "id": "view-in-github",
        "colab_type": "text"
      },
      "source": [
        "<a href=\"https://colab.research.google.com/github/samikshaa0604/FUTURE_ML_01/blob/main/final.ipynb\" target=\"_parent\"><img src=\"https://colab.research.google.com/assets/colab-badge.svg\" alt=\"Open In Colab\"/></a>"
      ]
    },
    {
      "cell_type": "code",
      "source": [
        "from google.colab import drive\n",
        "drive.mount('/content/drive')"
      ],
      "metadata": {
        "id": "kryU6YmgXVXB",
        "outputId": "ffc869ed-8d8e-406b-c6b5-2e03d80addce",
        "colab": {
          "base_uri": "https://localhost:8080/"
        }
      },
      "execution_count": 4,
      "outputs": [
        {
          "output_type": "stream",
          "name": "stdout",
          "text": [
            "Mounted at /content/drive\n"
          ]
        }
      ]
    },
    {
      "cell_type": "code",
      "source": [
        "# Cell 1: Install Prophet (if not already installed)\n",
        "!pip install prophet\n"
      ],
      "metadata": {
        "colab": {
          "base_uri": "https://localhost:8080/"
        },
        "id": "r9xdOZZa9V3v",
        "outputId": "0be09d4f-eed2-47c0-cbd4-e3e0cf41962a"
      },
      "execution_count": 15,
      "outputs": [
        {
          "output_type": "stream",
          "name": "stdout",
          "text": [
            "Requirement already satisfied: prophet in /usr/local/lib/python3.12/dist-packages (1.1.7)\n",
            "Requirement already satisfied: cmdstanpy>=1.0.4 in /usr/local/lib/python3.12/dist-packages (from prophet) (1.2.5)\n",
            "Requirement already satisfied: numpy>=1.15.4 in /usr/local/lib/python3.12/dist-packages (from prophet) (2.0.2)\n",
            "Requirement already satisfied: matplotlib>=2.0.0 in /usr/local/lib/python3.12/dist-packages (from prophet) (3.10.0)\n",
            "Requirement already satisfied: pandas>=1.0.4 in /usr/local/lib/python3.12/dist-packages (from prophet) (2.2.2)\n",
            "Requirement already satisfied: holidays<1,>=0.25 in /usr/local/lib/python3.12/dist-packages (from prophet) (0.82)\n",
            "Requirement already satisfied: tqdm>=4.36.1 in /usr/local/lib/python3.12/dist-packages (from prophet) (4.67.1)\n",
            "Requirement already satisfied: importlib_resources in /usr/local/lib/python3.12/dist-packages (from prophet) (6.5.2)\n",
            "Requirement already satisfied: stanio<2.0.0,>=0.4.0 in /usr/local/lib/python3.12/dist-packages (from cmdstanpy>=1.0.4->prophet) (0.5.1)\n",
            "Requirement already satisfied: python-dateutil in /usr/local/lib/python3.12/dist-packages (from holidays<1,>=0.25->prophet) (2.9.0.post0)\n",
            "Requirement already satisfied: contourpy>=1.0.1 in /usr/local/lib/python3.12/dist-packages (from matplotlib>=2.0.0->prophet) (1.3.3)\n",
            "Requirement already satisfied: cycler>=0.10 in /usr/local/lib/python3.12/dist-packages (from matplotlib>=2.0.0->prophet) (0.12.1)\n",
            "Requirement already satisfied: fonttools>=4.22.0 in /usr/local/lib/python3.12/dist-packages (from matplotlib>=2.0.0->prophet) (4.60.1)\n",
            "Requirement already satisfied: kiwisolver>=1.3.1 in /usr/local/lib/python3.12/dist-packages (from matplotlib>=2.0.0->prophet) (1.4.9)\n",
            "Requirement already satisfied: packaging>=20.0 in /usr/local/lib/python3.12/dist-packages (from matplotlib>=2.0.0->prophet) (25.0)\n",
            "Requirement already satisfied: pillow>=8 in /usr/local/lib/python3.12/dist-packages (from matplotlib>=2.0.0->prophet) (11.3.0)\n",
            "Requirement already satisfied: pyparsing>=2.3.1 in /usr/local/lib/python3.12/dist-packages (from matplotlib>=2.0.0->prophet) (3.2.5)\n",
            "Requirement already satisfied: pytz>=2020.1 in /usr/local/lib/python3.12/dist-packages (from pandas>=1.0.4->prophet) (2025.2)\n",
            "Requirement already satisfied: tzdata>=2022.7 in /usr/local/lib/python3.12/dist-packages (from pandas>=1.0.4->prophet) (2025.2)\n",
            "Requirement already satisfied: six>=1.5 in /usr/local/lib/python3.12/dist-packages (from python-dateutil->holidays<1,>=0.25->prophet) (1.17.0)\n"
          ]
        }
      ]
    },
    {
      "cell_type": "code",
      "source": [
        "# Cell 2: Import libraries\n",
        "import pandas as pd\n",
        "from prophet import Prophet\n",
        "from google.colab import files"
      ],
      "metadata": {
        "id": "lm-lWv8b9Xtt"
      },
      "execution_count": 16,
      "outputs": []
    },
    {
      "cell_type": "code",
      "source": [
        "# Cell 3: Load dataset (you will upload and give path here)\n",
        "# Example: df = pd.read_csv('/content/SampleSuperstore.csv')\n",
        "df = pd.read_csv('/content/drive/MyDrive/future interns datasets/Sample - Superstore.csv', encoding='latin1')\n",
        "\n",
        "\n",
        "# Convert dates\n",
        "df['Order Date'] = pd.to_datetime(df['Order Date'])\n"
      ],
      "metadata": {
        "id": "fiSpDQPz9at4"
      },
      "execution_count": 17,
      "outputs": []
    },
    {
      "cell_type": "code",
      "source": [
        "# Cell 4: Create year and month features\n",
        "df['year'] = df['Order Date'].dt.year\n",
        "df['month'] = df['Order Date'].dt.month\n"
      ],
      "metadata": {
        "id": "5_JEK4tp9uAx"
      },
      "execution_count": 18,
      "outputs": []
    },
    {
      "cell_type": "code",
      "source": [
        "# Cell 5: Aggregate data at required level\n",
        "agg_df = df.groupby(\n",
        "    ['year','month','Region','Category','Sub-Category','Product Name'],\n",
        "    as_index=False\n",
        ").agg({\n",
        "    'Sales':'sum',\n",
        "    'Profit':'sum',\n",
        "    'Quantity':'sum'\n",
        "})\n",
        "\n",
        "agg_df.rename(columns={\n",
        "    'Region':'region',\n",
        "    'Category':'category',\n",
        "    'Sub-Category':'sub_category',\n",
        "    'Product Name':'product_name',\n",
        "    'Sales':'total_sales',\n",
        "    'Profit':'total_profit',\n",
        "    'Quantity':'quantity'\n",
        "}, inplace=True)\n"
      ],
      "metadata": {
        "id": "ExHrmtT39wjR"
      },
      "execution_count": 19,
      "outputs": []
    },
    {
      "cell_type": "code",
      "source": [
        "# Cell 6: Prepare data for forecasting (overall sales by month)\n",
        "monthly_sales = df.groupby(pd.Grouper(key='Order Date', freq='M')).agg({'Sales':'sum'}).reset_index()\n",
        "monthly_sales.rename(columns={'Order Date':'ds','Sales':'y'}, inplace=True)\n"
      ],
      "metadata": {
        "colab": {
          "base_uri": "https://localhost:8080/"
        },
        "id": "LQwYYfbY9zCh",
        "outputId": "276e099c-fa44-480f-b61c-c6b5e3891c41"
      },
      "execution_count": 20,
      "outputs": [
        {
          "output_type": "stream",
          "name": "stderr",
          "text": [
            "/tmp/ipython-input-2369101067.py:2: FutureWarning: 'M' is deprecated and will be removed in a future version, please use 'ME' instead.\n",
            "  monthly_sales = df.groupby(pd.Grouper(key='Order Date', freq='M')).agg({'Sales':'sum'}).reset_index()\n"
          ]
        }
      ]
    },
    {
      "cell_type": "code",
      "source": [
        "# Cell 7: Fit Prophet model\n",
        "model = Prophet(interval_width=0.95)\n",
        "model.fit(monthly_sales)\n",
        "\n",
        "future = model.make_future_dataframe(periods=6, freq='M')  # 6 months forecast\n",
        "forecast = model.predict(future)\n"
      ],
      "metadata": {
        "colab": {
          "base_uri": "https://localhost:8080/"
        },
        "id": "A777-FBr91li",
        "outputId": "ad6bafae-a5f4-4ec1-cdc9-2c7d221c0e5b"
      },
      "execution_count": 21,
      "outputs": [
        {
          "output_type": "stream",
          "name": "stderr",
          "text": [
            "INFO:prophet:Disabling weekly seasonality. Run prophet with weekly_seasonality=True to override this.\n",
            "INFO:prophet:Disabling daily seasonality. Run prophet with daily_seasonality=True to override this.\n",
            "DEBUG:cmdstanpy:input tempfile: /tmp/tmp6ut36gpt/413ws_ne.json\n",
            "DEBUG:cmdstanpy:input tempfile: /tmp/tmp6ut36gpt/imlj5ieo.json\n",
            "DEBUG:cmdstanpy:idx 0\n",
            "DEBUG:cmdstanpy:running CmdStan, num_threads: None\n",
            "DEBUG:cmdstanpy:CmdStan args: ['/usr/local/lib/python3.12/dist-packages/prophet/stan_model/prophet_model.bin', 'random', 'seed=84073', 'data', 'file=/tmp/tmp6ut36gpt/413ws_ne.json', 'init=/tmp/tmp6ut36gpt/imlj5ieo.json', 'output', 'file=/tmp/tmp6ut36gpt/prophet_modelbs8p5ipl/prophet_model-20251021060639.csv', 'method=optimize', 'algorithm=newton', 'iter=10000']\n",
            "06:06:39 - cmdstanpy - INFO - Chain [1] start processing\n",
            "INFO:cmdstanpy:Chain [1] start processing\n",
            "06:06:39 - cmdstanpy - INFO - Chain [1] done processing\n",
            "INFO:cmdstanpy:Chain [1] done processing\n",
            "/usr/local/lib/python3.12/dist-packages/prophet/forecaster.py:1872: FutureWarning: 'M' is deprecated and will be removed in a future version, please use 'ME' instead.\n",
            "  dates = pd.date_range(\n"
          ]
        }
      ]
    },
    {
      "cell_type": "code",
      "source": [
        "# Cell 8: Merge forecast with agg_df\n",
        "# Extract year and month from forecast\n",
        "forecast['year'] = forecast['ds'].dt.year\n",
        "forecast['month'] = forecast['ds'].dt.month\n",
        "\n",
        "forecast = forecast[['year','month','yhat','yhat_lower','yhat_upper']]\n",
        "forecast.rename(columns={\n",
        "    'yhat':'forecast_sales',\n",
        "    'yhat_lower':'forecast_lower_ci',\n",
        "    'yhat_upper':'forecast_upper_ci'\n",
        "}, inplace=True)\n",
        "\n",
        "# Add actual sales\n",
        "actual = monthly_sales.copy()\n",
        "actual['year'] = actual['ds'].dt.year\n",
        "actual['month'] = actual['ds'].dt.month\n",
        "actual = actual[['year','month','y']]\n",
        "actual.rename(columns={'y':'actual_sales'}, inplace=True)\n",
        "\n",
        "# Merge forecast + actual into agg_df\n",
        "final_df = agg_df.merge(actual, on=['year','month'], how='left')\n",
        "final_df = final_df.merge(forecast, on=['year','month'], how='left')\n"
      ],
      "metadata": {
        "id": "TUwlt66s94VM"
      },
      "execution_count": 22,
      "outputs": []
    },
    {
      "cell_type": "code",
      "source": [
        "# Cell 9: Save and download final CSV\n",
        "final_df.to_csv('final_output.csv', index=False)\n",
        "files.download('final_output.csv')\n"
      ],
      "metadata": {
        "colab": {
          "base_uri": "https://localhost:8080/",
          "height": 17
        },
        "id": "VkONf_l-969J",
        "outputId": "1b67354b-727e-4fca-a738-1be8278f9920"
      },
      "execution_count": 23,
      "outputs": [
        {
          "output_type": "display_data",
          "data": {
            "text/plain": [
              "<IPython.core.display.Javascript object>"
            ],
            "application/javascript": [
              "\n",
              "    async function download(id, filename, size) {\n",
              "      if (!google.colab.kernel.accessAllowed) {\n",
              "        return;\n",
              "      }\n",
              "      const div = document.createElement('div');\n",
              "      const label = document.createElement('label');\n",
              "      label.textContent = `Downloading \"${filename}\": `;\n",
              "      div.appendChild(label);\n",
              "      const progress = document.createElement('progress');\n",
              "      progress.max = size;\n",
              "      div.appendChild(progress);\n",
              "      document.body.appendChild(div);\n",
              "\n",
              "      const buffers = [];\n",
              "      let downloaded = 0;\n",
              "\n",
              "      const channel = await google.colab.kernel.comms.open(id);\n",
              "      // Send a message to notify the kernel that we're ready.\n",
              "      channel.send({})\n",
              "\n",
              "      for await (const message of channel.messages) {\n",
              "        // Send a message to notify the kernel that we're ready.\n",
              "        channel.send({})\n",
              "        if (message.buffers) {\n",
              "          for (const buffer of message.buffers) {\n",
              "            buffers.push(buffer);\n",
              "            downloaded += buffer.byteLength;\n",
              "            progress.value = downloaded;\n",
              "          }\n",
              "        }\n",
              "      }\n",
              "      const blob = new Blob(buffers, {type: 'application/binary'});\n",
              "      const a = document.createElement('a');\n",
              "      a.href = window.URL.createObjectURL(blob);\n",
              "      a.download = filename;\n",
              "      div.appendChild(a);\n",
              "      a.click();\n",
              "      div.remove();\n",
              "    }\n",
              "  "
            ]
          },
          "metadata": {}
        },
        {
          "output_type": "display_data",
          "data": {
            "text/plain": [
              "<IPython.core.display.Javascript object>"
            ],
            "application/javascript": [
              "download(\"download_3c01ac6c-f044-4042-a0ec-39efe6e61c91\", \"final_output.csv\", 1523036)"
            ]
          },
          "metadata": {}
        }
      ]
    }
  ]
}